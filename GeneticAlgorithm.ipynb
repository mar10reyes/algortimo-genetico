{
  "nbformat": 4,
  "nbformat_minor": 0,
  "metadata": {
    "colab": {
      "name": "GeneticAlgorithm.ipynb",
      "provenance": [],
      "collapsed_sections": []
    },
    "kernelspec": {
      "name": "python3",
      "display_name": "Python 3"
    }
  },
  "cells": [
    {
      "cell_type": "code",
      "metadata": {
        "id": "g8biu-hwdo15"
      },
      "source": [
        "import numpy as np\n",
        "import random\n",
        "import matplotlib.pyplot as plt"
      ],
      "execution_count": null,
      "outputs": []
    },
    {
      "cell_type": "code",
      "metadata": {
        "id": "FFnV2GZndswc"
      },
      "source": [
        "class Agent():\n",
        "\n",
        "  def __init__(self, n_genes, generation_interval):\n",
        "    self.n_genes = n_genes\n",
        "    self.fitness = None\n",
        "    self.value =[]\n",
        "    self.init_genes(generation_interval)\n",
        "\n",
        "  def init_genes(self, generation_interval):\n",
        "    a = generation_interval[0]\n",
        "    b = generation_interval[1]\n",
        "    for _ in range(self.n_genes):\n",
        "      allele = random.uniform(a, b)\n",
        "      self.value.append(allele)\n",
        "\n",
        "  def set_value(self, value):\n",
        "    self.value = value\n",
        "\n",
        "  def set_fitness(self, fitness):\n",
        "    self.fitness = fitness\n",
        "\n",
        "  def n_genes(self):\n",
        "    return len(self.value)\n",
        "\n",
        "  def __str__(self):\n",
        "    return \"value:\"+str(self.value)+\"Fitness: \"+str(self.fitness)"
      ],
      "execution_count": null,
      "outputs": []
    },
    {
      "cell_type": "code",
      "metadata": {
        "id": "aiZZEzS3gr7O"
      },
      "source": [
        "class GeneticAlgorithm():\n",
        "\n",
        "  def __init__(self, sys_eq, b, generation_interval, _elitism = 2,\n",
        "               _selection = 2, _crossover_prob = 0.9, _mutation_prob = 0.02,\n",
        "               max_generations = 1000, tolerance = 0.1, n_population = 1000):\n",
        "    self.sys_eq = sys_eq\n",
        "    self.b = b\n",
        "    self.generation_interval = generation_interval\n",
        "    self.agents = []\n",
        "    self._elitism = _elitism\n",
        "    self._selection = _selection\n",
        "    self._crossover_prob = _crossover_prob\n",
        "    self._mutation_prob = _mutation_prob\n",
        "    self.max_generations = max_generations\n",
        "    self.tolerance = tolerance\n",
        "    self.n_population = n_population\n",
        "    \n",
        "\n",
        "  def init_population(self):\n",
        "    n_genes = len(sys_eq[0])\n",
        "    for _ in range(self.n_population):\n",
        "      new_agent = Agent(n_genes, self.generation_interval)\n",
        "      self.agents.append(new_agent)\n",
        "\n",
        "\n",
        "  def fitness_func(self, agent):\n",
        "    fitness_func_values = []\n",
        "    for eq in sys_eq:\n",
        "      value = np.dot(agent.value, eq)\n",
        "      fitness_func_values.append(value)\n",
        "    return fitness_func_values\n",
        "\n",
        "\n",
        "  def fitness(self, agent):\n",
        "    fitness = 0\n",
        "    fitness_func_values = self.fitness_func(agent)\n",
        "    for i in range(len(self.b)):\n",
        "      fitness = fitness + abs(self.b[i] - fitness_func_values[i])\n",
        "    agent.set_fitness(fitness)\n",
        "\n",
        "\n",
        "  def sort_agents(self):\n",
        "    fitness = lambda agent: agent.fitness\n",
        "    self.agents.sort(key=fitness)\n",
        "\n",
        "\n",
        "  def elitism(self):\n",
        "\n",
        "    self.sort_agents()\n",
        "    best_agents = []\n",
        "    for i in range(self._elitism):\n",
        "      best_agents.append(self.agents[i])\n",
        "    return best_agents\n",
        "\n",
        "\n",
        "  def selection(self):\n",
        "    parent_choices = random.choices(self.agents, k=self._selection)\n",
        "\n",
        "    fitness = lambda agent: agent.fitness\n",
        "    parent_choices.sort(key=fitness)\n",
        "    best_random_parent = parent_choices[0]\n",
        "\n",
        "    random_parent = random.choice(self.agents)\n",
        "\n",
        "    return best_random_parent, random_parent\n",
        "\n",
        "  \n",
        "  def crossover(self, parents):\n",
        "\n",
        "    parent1 = parents[0]\n",
        "    parent2 = parents[1]\n",
        "\n",
        "    parent1_splitted = [[],[]]\n",
        "    parent2_splitted = [[],[]]\n",
        "\n",
        "    current_crossover_prob = random.random()\n",
        "\n",
        "    if(current_crossover_prob <= self._crossover_prob):\n",
        "      \n",
        "      n_genes = len(sys_eq[0])\n",
        "      split_point = random.randint(0, n_genes-1)\n",
        "\n",
        "      for i in range(n_genes):\n",
        "        if i<= split_point:\n",
        "          parent1_splitted[0].append(parent1.value[i])\n",
        "\n",
        "      for i in range(n_genes):\n",
        "        if i > split_point:\n",
        "          parent1_splitted[1].append(parent1.value[i])\n",
        "\n",
        "      for i in range(n_genes):\n",
        "        if i<= split_point:\n",
        "          parent2_splitted[0].append(parent2.value[i])\n",
        "\n",
        "      for i in range(n_genes):\n",
        "        if i > split_point:\n",
        "          parent2_splitted[1].append(parent2.value[i])\n",
        "\n",
        "      child1_values = []\n",
        "      \n",
        "      for value in parent1_splitted[0]:\n",
        "        child1_values.append(value)\n",
        "      \n",
        "      for value in parent2_splitted[1]:\n",
        "        child1_values.append(value)\n",
        "\n",
        "\n",
        "      child2_values = []\n",
        "\n",
        "      for value in parent2_splitted[0]:\n",
        "        child2_values.append(value)\n",
        "      \n",
        "      for value in parent1_splitted[1]:\n",
        "        child2_values.append(value)\n",
        "\n",
        "      child1 = Agent(n_genes, self.generation_interval)\n",
        "      child1.set_value(child1_values)\n",
        "\n",
        "      child2 = Agent(n_genes, self.generation_interval)\n",
        "      child2.set_value(child2_values)\n",
        "\n",
        "      return child1, child2\n",
        "    return parent1, parent2\n",
        "\n",
        "  def mutation(self, agents):\n",
        "\n",
        "    agent = random.choice(agents)\n",
        "    other_agent = agents[0]\n",
        "    \n",
        "    if(other_agent == agent):\n",
        "      other_agent = agents[1]\n",
        "\n",
        "    curren_mutation_prob = random.random()\n",
        "\n",
        "    if(curren_mutation_prob <= self._mutation_prob):\n",
        "      n_genes = len(sys_eq[0])\n",
        "      gen_to_mutate = random.randint(0, n_genes)\n",
        "\n",
        "      a = self.generation_interval[0]\n",
        "      b = self.generation_interval[1]\n",
        "      mutated_allele = random.uniform(a, b)\n",
        "\n",
        "      agent_value = agent.value\n",
        "\n",
        "      for i in range(n_genes):\n",
        "        if(i == gen_to_mutate):\n",
        "          agent_value[i] = mutated_allele\n",
        "\n",
        "      agent.set_value(agent_value)\n",
        "    return agent, other_agent\n",
        "\n",
        "  def best_agent(self):\n",
        "    self.sort_agents()\n",
        "    return self.agents[0]\n",
        "\n",
        "\n",
        "  def execute(self):\n",
        "    #poblacion inicial\n",
        "    self.init_population()\n",
        "    \n",
        "    #valores iniciales\n",
        "    temp_population = []\n",
        "    current_generation = 0\n",
        "    current_err = 100\n",
        "\n",
        "    #error del mejor agente de cada epoca\n",
        "    err = []\n",
        "\n",
        "    #evaluar la primera poblacion\n",
        "    for agent in self.agents:\n",
        "      self.fitness(agent)\n",
        "    \n",
        "    _best_agent = self.best_agent()\n",
        "    current_err = _best_agent.fitness\n",
        "    err.append(current_err)\n",
        "    \n",
        "    while(current_generation < self.max_generations and current_err > self.tolerance):\n",
        "      \n",
        "      current_generation = current_generation+1\n",
        "\n",
        "      parents = []\n",
        "      childs = []\n",
        "      muted_childs = []\n",
        "\n",
        "      best_agents = self.elitism()\n",
        "\n",
        "      for agent in best_agents:\n",
        "        temp_population.append(agent)\n",
        "\n",
        "      while(len(temp_population) < self.n_population):\n",
        "\n",
        "        parents = self.selection()\n",
        "        childs = self.crossover(parents)\n",
        "        mutated_childs = self.mutation(childs)\n",
        "\n",
        "        for agent in mutated_childs:\n",
        "          temp_population.append(agent)\n",
        "\n",
        "      self.agents = temp_population\n",
        "      \n",
        "      #evaluar la poblacion\n",
        "      for agent in self.agents:\n",
        "        self.fitness(agent)\n",
        "    \n",
        "      _best_agent = self.best_agent()\n",
        "      current_err = _best_agent.fitness\n",
        "      err.append(current_err)\n",
        "\n",
        "    #gráficos de error\n",
        "    plt.plot(range(len(err)), err)\n",
        "    plt.xlabel('t')\n",
        "    plt.ylabel('error')\n",
        "    plt.show()\n",
        "    \n",
        "    print(\"solucion: \"+str(_best_agent.value))\n",
        "    print(\"fitness: \"+str(_best_agent.fitness))\n",
        "    print(\"generaciones: \"+str(current_generation))\n",
        "    print(\"err inicial: \"+str(err[0])+\" - err final: \"+ str(err[-1]))\n",
        "\n",
        "\n",
        "\n"
      ],
      "execution_count": null,
      "outputs": []
    },
    {
      "cell_type": "code",
      "metadata": {
        "id": "E49bdsxQELKE",
        "colab": {
          "base_uri": "https://localhost:8080/",
          "height": 350
        },
        "outputId": "788e19da-8ed7-4274-9d03-8142e2237e5e"
      },
      "source": [
        "#Problema 1\n",
        "sys_eq = [[0.01, 0.02],\n",
        "          [0.02, 0.05]]\n",
        "\n",
        "b = [4,9]\n",
        "\n",
        "generation_interval = [50,250]\n",
        "\n",
        "ga = GeneticAlgorithm(sys_eq, b, generation_interval)\n",
        "ga.execute()"
      ],
      "execution_count": null,
      "outputs": [
        {
          "output_type": "display_data",
          "data": {
            "image/png": "[encoded data removed]",
            "text/plain": [
              "<Figure size 432x288 with 1 Axes>"
            ]
          },
          "metadata": {
            "tags": [],
            "needs_background": "light"
          }
        },
        {
          "output_type": "stream",
          "text": [
            "solucion: [184.43279068948928, 106.1838142087167]\n",
            "fitness: 0.03414928470515122\n",
            "generaciones: 0\n",
            "err inicial: 0.03414928470515122 - err final: 0.03414928470515122\n"
          ],
          "name": "stdout"
        }
      ]
    },
    {
      "cell_type": "markdown",
      "metadata": {
        "id": "UrI2dP-8RRKy"
      },
      "source": [
        "**Solucion al ejercicio:**\n",
        "- Se necesitan extraer:\n",
        "  - 186.597 toneladas de la mina I\n",
        "  - 105.030 toneladas de la mina II\n",
        "\n",
        "**Analisis de los resultados:**\n",
        "- El rango para escoger los valores aleatorios es lo suficientemente corto para que se pueda encontrar la solucion rapido.\n",
        "- La grafica del error aparece vacia porque se encontro la solucion en la primera generacion. "
      ]
    },
    {
      "cell_type": "code",
      "metadata": {
        "id": "Dolt-i2vK9hq",
        "colab": {
          "base_uri": "https://localhost:8080/",
          "height": 347
        },
        "outputId": "931f22c8-8aef-4b99-ed75-40fc95ffd93b"
      },
      "source": [
        "#Problema 2\n",
        "sys_eq = [[16.98, 9.00, 9.00],\n",
        "          [15.90, 8.72, 8.52],\n",
        "          [14.08, 8.20, 8.73]]\n",
        "\n",
        "b = [138900, 131220, 121280]\n",
        "\n",
        "generation_interval = [2800,5100]\n",
        "\n",
        "ga = GeneticAlgorithm(sys_eq, b, generation_interval)\n",
        "ga.execute()"
      ],
      "execution_count": null,
      "outputs": [
        {
          "output_type": "display_data",
          "data": {
            "image/png": "[encoded data removed]",
            "text/plain": [
              "<Figure size 432x288 with 1 Axes>"
            ]
          },
          "metadata": {
            "tags": [],
            "needs_background": "light"
          }
        },
        {
          "output_type": "stream",
          "text": [
            "solucion: [5065.9446169516705, 2911.187643209167, 2965.121651549055]\n",
            "fitness: 223.86022013194452\n",
            "generaciones: 1000\n",
            "err inicial: 223.86022013194452 - err final: 223.86022013194452\n"
          ],
          "name": "stdout"
        }
      ]
    },
    {
      "cell_type": "markdown",
      "metadata": {
        "id": "PT34SBLoU_Z8"
      },
      "source": [
        "**Solucion al ejercicio:**\n",
        "- Para solucionar el sistema de ecuaciones:\n",
        "  - A ~ 5065.94\n",
        "  - P ~ 2911.18\n",
        "  - V ~ 2965.12\n",
        "\n",
        "**Metodo para acercarnos al intervalo:**\n",
        "- Para acercarnos al intervalo correcto para resolver el ejercicio, se utilizo el valor del error ya que este indica que tan lejos estamos de la solucion.\n",
        "\n",
        "**Analisis de los resultados:**\n",
        "- El rango para escoger los valores aleatorios es demasiado grande. Ademas, hay una variables mas que en ejercicio anterior, lo que complica encontrar una buena solucion.\n",
        "- El error tan grande demuestra que estos algoritmos no son los mejores para este tipo de problemas.\n",
        "- Como se puede ver en la grafica, el error es constante y esto puede deberse a se genera un muy buen valor dentro de la inicializacion aleatoria y este valor estan bueno que se va pasando por elitismo a lo largo de las generaciones.\n",
        "- No hay muchos valores que compitan con ese error(el que aparece en la grafica) porque cuando se inicia la primera poblacion es toda aleatoria pero la poblacion del resto de generaciones es derivada los agentes ya existentes.\n",
        "- La situacion anterior es la razon por la que es muy probable que en el primer ejercicio, el mejor individuo salga de la generacion 0 como queda demostrado en los resultados."
      ]
    },
    {
      "cell_type": "code",
      "metadata": {
        "id": "hUFVro-9Nw2f",
        "colab": {
          "base_uri": "https://localhost:8080/",
          "height": 347
        },
        "outputId": "3b57f34f-0c58-4e90-a796-154696f69446"
      },
      "source": [
        "#Problema 3\n",
        "sys_eq = [[-1,  1,  1,  1],\n",
        "          [-3,  1,  2,  1],\n",
        "          [-1,  1, -2,  2],\n",
        "          [ 1, -3,  3, -3]]\n",
        "\n",
        "b = [4, 4, 3, 2]\n",
        "\n",
        "generation_interval = [0,3]\n",
        "\n",
        "ga = GeneticAlgorithm(sys_eq, b, generation_interval)\n",
        "ga.execute()"
      ],
      "execution_count": null,
      "outputs": [
        {
          "output_type": "display_data",
          "data": {
            "image/png": "[encoded data removed]",
            "text/plain": [
              "<Figure size 432x288 with 1 Axes>"
            ]
          },
          "metadata": {
            "tags": [],
            "needs_background": "light"
          }
        },
        {
          "output_type": "stream",
          "text": [
            "solucion: [0.6539505704903662, 0.03762127974283003, 2.090927615982292, 1.7429201640161676]\n",
            "fitness: 5.510261582521094\n",
            "generaciones: 1000\n",
            "err inicial: 5.510261582521094 - err final: 5.510261582521094\n"
          ],
          "name": "stdout"
        }
      ]
    },
    {
      "cell_type": "markdown",
      "metadata": {
        "id": "XPRVq6ksXYGg"
      },
      "source": [
        "**Solucion al ejercicio:**\n",
        "- Para solucionar el sistema de ecuaciones:\n",
        "  - X1 ~ 0.6539\n",
        "  - X2 ~ 0.0376\n",
        "  - X3 ~ 2.0909\n",
        "  - X4 ~ 1.7429\n",
        "\n",
        "**Analisis de los resultados:**\n",
        "- El rango para escoger los valores aleatorios no es muy grande pero hay 4 variables lo que desencadena en que no se llege a una solucion dentro de la tolerancia minima\n",
        "- El error tan grande demuestra que estos algoritmos no son los mejores para este tipo de problemas.\n",
        "- La grafica constante, obedece al mismo fenomeno explicado anteriormente. En la primera generacio se crean muchos individuios muy variados, lo que hace que sea muy probable que el mejor individuo salga de la generacion 0 y constantemente elegido por elitismo a lo largo de estas."
      ]
    }
  ]
}